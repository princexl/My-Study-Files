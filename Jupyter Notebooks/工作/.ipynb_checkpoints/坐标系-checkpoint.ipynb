{
 "cells": [
  {
   "cell_type": "code",
   "execution_count": 1,
   "metadata": {
    "ExecuteTime": {
     "end_time": "2018-04-15T09:54:09.175070Z",
     "start_time": "2018-04-15T17:54:09.163253+08:00"
    }
   },
   "outputs": [
    {
     "data": {
      "text/plain": [
       "'3.5.2 |Anaconda custom (64-bit)| (default, Jul  5 2016, 11:41:13) [MSC v.1900 64 bit (AMD64)]'"
      ]
     },
     "execution_count": 1,
     "metadata": {},
     "output_type": "execute_result"
    },
    {
     "data": {
      "text/plain": [
       "'2018-04-15 17:54:09'"
      ]
     },
     "execution_count": 1,
     "metadata": {},
     "output_type": "execute_result"
    }
   ],
   "source": [
    "import sys, time\n",
    "sys.version\n",
    "time.strftime('%Y-%m-%d %H:%M:%S', time.localtime(time.time()))"
   ]
  },
  {
   "cell_type": "markdown",
   "metadata": {
    "ExecuteTime": {
     "end_time": "2018-04-15T09:54:18.954461Z",
     "start_time": "2018-04-15T17:54:18.937772+08:00"
    }
   },
   "source": [
    "- **@author**: run_walker\n",
    "- **@references**:\n",
    "    1. [知乎 >> 「中国政府为了国家安全在国内 GPS 定位时人为加入一定偏移」这种说法，有官方文件佐证么？](https://www.zhihu.com/question/19883280/answer/102190429)\n",
    "    2. [GCJ02、BD09、西安80、北京54、CGCS2000常用坐标系详解](https://baijiahao.baidu.com/s?id=1578354683759642258&wfr=spider&for=pc)\n",
    "    3. [地图坐标体系介绍及其互转工具](https://www.jianshu.com/p/2296d95afe65)\n",
    "    4. [百度地图和高德地图坐标系的互相转换](https://www.jianshu.com/p/d3dd4149bb0b)\n",
    "    5. [github >> 坐标转换](https://github.com/wandergis/coordTransform_py)\n",
    "    6. [关于gcj02与dbII09的反向算法即地理坐标的不可加密性](http://blog.51cto.com/zhangchanggong/1547863)\n",
    "    7. [地图经纬度及坐标系统转换的那点事](https://blog.csdn.net/yu412346928/article/details/24413289)\n",
    "    8. [GPS坐标互转、测距：WGS-84(GPS)、GCJ-02(Google地图)、BD-09(百度地图)](https://blog.csdn.net/hanzengyi/article/details/52119478)\n",
    "    9. [【地图API】为何您的坐标不准？如何纠偏？](http://www.cnblogs.com/milkmap/p/3627940.html)\n",
    "    10. [地理坐标系、大地坐标系与地图投影与重投影详解](https://blog.csdn.net/angelazy/article/details/44085099)\n",
    "    11. [空间直角坐标系、大地坐标系、平面坐标系、高斯平面直角坐标系](https://www.cnblogs.com/joetao/articles/1895574.html)\n",
    "    12. [国内地图坐标系介绍及常见地图（百度、高德、凯立德）之间的坐标系转换](https://blog.csdn.net/liyo300687/article/details/18981753)"
   ]
  },
  {
   "cell_type": "markdown",
   "metadata": {},
   "source": [
    "# 名词释义"
   ]
  },
  {
   "cell_type": "markdown",
   "metadata": {},
   "source": [
    "## GIS\n",
    "**Geographic Information System（[地理信息系统](https://baike.baidu.com/item/%E5%9C%B0%E7%90%86%E4%BF%A1%E6%81%AF%E7%B3%BB%E7%BB%9F/171830?fr=aladdin&fromid=31541&fromtitle=GIS)）**\n",
    "\n",
    "在计算机硬、软件系统支持下，对整个或部分地球表层（包括大气层）空间中的有关地理分布数据进行采集、储存、管理、运算、分析、显示和描述的技术系统。\n",
    "\n",
    "更多详情请参照 \n",
    "* [GIS有什么用?](https://www.zhihu.com/question/20794160) \n",
    "* [GIS软件](https://baike.baidu.com/item/GIS%E8%BD%AF%E4%BB%B6/9402235?fr=aladdin)"
   ]
  },
  {
   "cell_type": "markdown",
   "metadata": {},
   "source": [
    "## 本初子午线\n",
    "地球上计量经度的起始经线。又称**零子午线**。从本初子午线起 ，分别向东和向西计量地理经度，从0°到180°。要注意，本初子午线并不同于国际日期变更线和东西半球分界线。"
   ]
  },
  {
   "cell_type": "markdown",
   "metadata": {},
   "source": [
    "## 参考椭球体"
   ]
  },
  {
   "cell_type": "markdown",
   "metadata": {},
   "source": [
    "## 大地基准面"
   ]
  },
  {
   "cell_type": "markdown",
   "metadata": {},
   "source": [
    "# 坐标系的分类"
   ]
  },
  {
   "cell_type": "markdown",
   "metadata": {},
   "source": [
    "## 空间直角坐标系\n",
    "空间直角坐标系的坐标原点位于参考椭球的中心，Z轴指向参考椭球的北极，X轴指向起始子午面与赤道的交点，Y轴位于赤道面上切按右手系于X轴呈90度夹角，某点中的坐标可用该点在此坐标系的各个坐标轴上的投影来表示。空间直角坐标系可用如下图所示：\n",
    "\n",
    "<img src=\"空间直角坐标系.jpg\" style=\"float:left\">"
   ]
  },
  {
   "cell_type": "markdown",
   "metadata": {},
   "source": [
    "## 地理坐标系\n",
    "也叫**大地坐标系**，采用大地纬度、经度和大地高程来描述空间位置的。纬度是空间的点与参考椭球面的法线与赤道面的夹角；经度是空间的点与参考椭球的自转轴所在的面与参考椭球的起始子午面的夹角；大地高程是空间的点沿着参考椭球的法线方向到参考椭球面的距离。\n",
    "\n",
    "只要确定一个参考椭球体和一个大地基准面，就可以得到一种坐标系，详见 [地理坐标系、大地坐标系与地图投影与重投影详解](https://blog.csdn.net/angelazy/article/details/44085099)。\n",
    "\n",
    "根据大地基准面选取的不同，可将大地坐标系分为：\n",
    "* 参心大地坐标系：指经过定位与定向后，地球椭球的中心不与地球质心重合而是接近地球质心。区域性大地坐标系。是我国基本测图和常规大地测量的基础。如Beijing54、Xian80。详见 [GCJ02、BD09、西安80、北京54、CGCS2000常用坐标系详解](https://baijiahao.baidu.com/s?id=1578354683759642258&wfr=spider&for=pc)。\n",
    "* 地心大地坐标系：指经过定位与定向后，地球椭球的中心与地球质心重合。如CGCS2000、WGS84。\n",
    "\n",
    "<img src=\"大地坐标系.jpg\" style=\"float:left\">\n",
    "<img src=\"https://img-blog.csdn.net/20150305110242265\" style=\"float:left\">"
   ]
  },
  {
   "cell_type": "markdown",
   "metadata": {},
   "source": [
    "## 投影坐标系\n",
    "地图投影是将地图从球面（大地基准面）转换到平面的数学变换。由此确定的坐标系一般称为投影坐标系，是一种平面坐标系。因此投影坐标系需要确定两组参数，一组为大地坐标系，另一组为投影参数。\n",
    "\n",
    "投影的方式有很多种，最常见的一种是**墨卡托Mercator投影（正轴等角圆柱投影）**，由墨卡托于1569年专门为航海目的设计的，广泛应用于航海和航空。其设计思想是：令一个与地轴方向一致的圆柱切于或割于地球，将球面上的经纬网按等角条件投影于圆柱表面上，然后将圆柱面沿一条母线剪开展成平面。单位是米或千米，因此它的数值通常比较巨大，比如(215362.00021333335, 99526.00034912192)，详见 [墨卡托坐标](http://blog.51cto.com/no001/528543)。\n",
    "\n",
    "百度使用的坐标系有两种，分别为BD-09II和BD-09mc，后者就是一种墨卡托坐标系。\n",
    "\n",
    "<img src=\"墨卡托.jpg\" style=\"float:left\">"
   ]
  },
  {
   "cell_type": "markdown",
   "metadata": {},
   "source": [
    "# 经纬度坐标系的分类\n",
    "通常我们见到的坐标都是以经纬度的方式出现的，经度在前纬度在后（谷歌比较奇特，恰好是反过来的），按照加密方式的不同可以将其分为以下几种。"
   ]
  },
  {
   "cell_type": "markdown",
   "metadata": {},
   "source": [
    "## WGS-84 (World Geodetic System 1984)\n",
    "也即**GPS坐标系**。一般用国际标准的GPS记录仪记录下来的原始经纬度，都是该坐标系。GPS坐标是度分秒的形式，如下图右下角所示。分转化为度除以60，秒转化为度除以3600，则在google earth上采集到的 $36°38’20.62 = 36 + 38/60 + 20.62/3600 = 36.63906111111111度$。Google和高德地图的国外部分、OpenStreetMap等都使用的都是该坐标系，但是在国内由于相关法律法规的存在，是不允许直接用WGS84坐标系标注的，必须经过加密后才能使用。\n",
    "\n",
    "<img src=\"GPS坐标形式.png\" style=\"float:left\">"
   ]
  },
  {
   "cell_type": "markdown",
   "metadata": {},
   "source": [
    "## GCJ-02 (GuojiaCehuiJu)\n",
    "也被称作**火星坐标系**，是中国国家测绘局独创的坐标体系，由WGS-84坐标加密而来，是国内最广泛使用的坐标系。在国内，必须至少使用GCJ-02坐标系，或者使用在GCJ-02加密后再进行加密的坐标系（如BD-09坐标系等）。腾讯、高德和Google在国内部分使用的都是GCJ-02坐标系。\n",
    "\n",
    "更多背景介绍参照 [知乎 >> 「中国政府为了国家安全在国内 GPS 定位时人为加入一定偏移」这种说法，有官方文件佐证么？](https://www.zhihu.com/question/19883280/answer/102190429)"
   ]
  },
  {
   "cell_type": "markdown",
   "metadata": {},
   "source": [
    "## BD-09II\n",
    "百度的经纬度坐标系，常被简称为**百度坐标系**，是在GCJ-02坐标系的基础上再次加密偏移后形成的坐标系，只适用于百度地图。"
   ]
  },
  {
   "cell_type": "markdown",
   "metadata": {},
   "source": [
    "## 其他坐标系\n",
    "还有一些其他公司对GCJ-02再次进行加密时采用了自己的偏移算法，如下图所示（时间久远不确定其准确性）。\n",
    "\n",
    "<img src=\"map-api.png\" style=\"float:left\">"
   ]
  },
  {
   "cell_type": "markdown",
   "metadata": {},
   "source": [
    "# 坐标转换"
   ]
  },
  {
   "cell_type": "markdown",
   "metadata": {},
   "source": [
    "## 法一\n",
    "[github >> wandergis >> coordTransform_py](https://github.com/wandergis/coordTransform_py/blob/master/coordTransform_utils.py) \n",
    "\n",
    "缺点：\n",
    "1. python2写的，使用不便。\n",
    "2. 函数内的计算是用 `math` 模块写的，一次只能对一个点进行转换，不能对一列进行。\n",
    "3. 逆向解密思路有误，差的很多。"
   ]
  },
  {
   "cell_type": "markdown",
   "metadata": {},
   "source": [
    "# 法二（推荐）\n",
    "[coordtransform.py](CoordTransform.py) 自己实现，已上传至pypi\n",
    "* 安装： `pip install MapCoords`\n",
    "* 使用： `from MapCoords.coordtransform import *`\n",
    "\n",
    "由于加密过程中的一些函数不存在反函数，所以解密的过程不存在解析解，只能用数值逼近的方式估计数值解，当迭代的次数趋于无穷时，数值解收敛到真实值。详见 [关于gcj02与dbII09的反向算法即地理坐标的不可加密性](http://blog.51cto.com/zhangchanggong/1547863)"
   ]
  },
  {
   "cell_type": "markdown",
   "metadata": {},
   "source": [
    "<img src=\"https://img-blog.csdn.net/20150305110517585\"  style=\"float:left\">"
   ]
  },
  {
   "cell_type": "code",
   "execution_count": 1,
   "metadata": {
    "ExecuteTime": {
     "end_time": "2018-04-15T16:33:25.055145Z",
     "start_time": "2018-04-16T00:33:25.015885+08:00"
    }
   },
   "outputs": [
    {
     "data": {
      "text/plain": [
       "0.006693427489819221"
      ]
     },
     "execution_count": 1,
     "metadata": {},
     "output_type": "execute_result"
    }
   ],
   "source": [
    "import math\n",
    "e = math.sqrt((6378245**2- 6356863**2)) / 6378245\n",
    "e**2"
   ]
  },
  {
   "cell_type": "markdown",
   "metadata": {},
   "source": [
    "## 法三\n",
    "[高德api](http://lbs.amap.com/api/webservice/guide/api/convert/) 提供了其它坐标系到 `GCJ-02` 的转换接口，<span class=\"burk\">注意填写坐标时不能有空格</span>。\n",
    "\n",
    "[百度api](http://lbsyun.baidu.com/index.php?title=webapi/guide/changeposition) 提供了其它坐标系到 `BD-09` 的转换接口，但是不认证无法试用。 [百度apikey](../baidu_apikey.txt)\n",
    "\n",
    "可以充当我们自己编写函数效果的检验。"
   ]
  }
 ],
 "metadata": {
  "anaconda-cloud": {},
  "hide_input": false,
  "kernelspec": {
   "display_name": "Python [conda root]",
   "language": "python",
   "name": "conda-root-py"
  },
  "language_info": {
   "codemirror_mode": {
    "name": "ipython",
    "version": 3
   },
   "file_extension": ".py",
   "mimetype": "text/x-python",
   "name": "python",
   "nbconvert_exporter": "python",
   "pygments_lexer": "ipython3",
   "version": "3.6.5"
  },
  "toc": {
   "nav_menu": {},
   "number_sections": true,
   "sideBar": true,
   "skip_h1_title": false,
   "toc_cell": false,
   "toc_position": {
    "height": "calc(100% - 180px)",
    "left": "10px",
    "top": "150px",
    "width": "309px"
   },
   "toc_section_display": true,
   "toc_window_display": false
  },
  "varInspector": {
   "cols": {
    "lenName": 16,
    "lenType": 16,
    "lenVar": 40
   },
   "kernels_config": {
    "python": {
     "delete_cmd_postfix": "",
     "delete_cmd_prefix": "del ",
     "library": "var_list.py",
     "varRefreshCmd": "print(var_dic_list())"
    },
    "r": {
     "delete_cmd_postfix": ") ",
     "delete_cmd_prefix": "rm(",
     "library": "var_list.r",
     "varRefreshCmd": "cat(var_dic_list()) "
    }
   },
   "types_to_exclude": [
    "module",
    "function",
    "builtin_function_or_method",
    "instance",
    "_Feature"
   ],
   "window_display": false
  }
 },
 "nbformat": 4,
 "nbformat_minor": 1
}
