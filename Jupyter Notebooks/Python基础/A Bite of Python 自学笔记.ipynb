{
 "cells": [
  {
   "cell_type": "markdown",
   "metadata": {
    "toc": true
   },
   "source": [
    "<h1>Table of Contents<span class=\"tocSkip\"></span></h1>\n",
    "<div class=\"toc\" style=\"margin-top: 1em;\"><ul class=\"toc-item\"><li><span><a href=\"#基础\" data-toc-modified-id=\"基础-1\"><span class=\"toc-item-num\">1&nbsp;&nbsp;</span>基础</a></span><ul class=\"toc-item\"><li><span><a href=\"#格式化方法\" data-toc-modified-id=\"格式化方法-1.1\"><span class=\"toc-item-num\">1.1&nbsp;&nbsp;</span>格式化方法</a></span></li><li><span><a href=\"#转义序列与原始字符串\" data-toc-modified-id=\"转义序列与原始字符串-1.2\"><span class=\"toc-item-num\">1.2&nbsp;&nbsp;</span>转义序列与原始字符串</a></span></li></ul></li><li><span><a href=\"#运算符与表达式\" data-toc-modified-id=\"运算符与表达式-2\"><span class=\"toc-item-num\">2&nbsp;&nbsp;</span>运算符与表达式</a></span><ul class=\"toc-item\"><li><span><a href=\"#运算符\" data-toc-modified-id=\"运算符-2.1\"><span class=\"toc-item-num\">2.1&nbsp;&nbsp;</span>运算符</a></span></li><li><span><a href=\"#数值运算与赋值的快捷方式\" data-toc-modified-id=\"数值运算与赋值的快捷方式-2.2\"><span class=\"toc-item-num\">2.2&nbsp;&nbsp;</span>数值运算与赋值的快捷方式</a></span></li></ul></li><li><span><a href=\"#控制流\" data-toc-modified-id=\"控制流-3\"><span class=\"toc-item-num\">3&nbsp;&nbsp;</span>控制流</a></span><ul class=\"toc-item\"><li><span><a href=\"#if\" data-toc-modified-id=\"if-3.1\"><span class=\"toc-item-num\">3.1&nbsp;&nbsp;</span>if</a></span></li><li><span><a href=\"#while\" data-toc-modified-id=\"while-3.2\"><span class=\"toc-item-num\">3.2&nbsp;&nbsp;</span>while</a></span></li><li><span><a href=\"#for\" data-toc-modified-id=\"for-3.3\"><span class=\"toc-item-num\">3.3&nbsp;&nbsp;</span>for</a></span></li><li><span><a href=\"#break\" data-toc-modified-id=\"break-3.4\"><span class=\"toc-item-num\">3.4&nbsp;&nbsp;</span>break</a></span></li><li><span><a href=\"#continue\" data-toc-modified-id=\"continue-3.5\"><span class=\"toc-item-num\">3.5&nbsp;&nbsp;</span>continue</a></span></li></ul></li><li><span><a href=\"#函数\" data-toc-modified-id=\"函数-4\"><span class=\"toc-item-num\">4&nbsp;&nbsp;</span>函数</a></span><ul class=\"toc-item\"><li><span><a href=\"#函数参数\" data-toc-modified-id=\"函数参数-4.1\"><span class=\"toc-item-num\">4.1&nbsp;&nbsp;</span>函数参数</a></span></li><li><span><a href=\"#局部变量\" data-toc-modified-id=\"局部变量-4.2\"><span class=\"toc-item-num\">4.2&nbsp;&nbsp;</span>局部变量</a></span></li><li><span><a href=\"#Global语句\" data-toc-modified-id=\"Global语句-4.3\"><span class=\"toc-item-num\">4.3&nbsp;&nbsp;</span>Global语句</a></span></li><li><span><a href=\"#默认参数值\" data-toc-modified-id=\"默认参数值-4.4\"><span class=\"toc-item-num\">4.4&nbsp;&nbsp;</span>默认参数值</a></span></li><li><span><a href=\"#关键字参数\" data-toc-modified-id=\"关键字参数-4.5\"><span class=\"toc-item-num\">4.5&nbsp;&nbsp;</span>关键字参数</a></span></li><li><span><a href=\"#可变参数\" data-toc-modified-id=\"可变参数-4.6\"><span class=\"toc-item-num\">4.6&nbsp;&nbsp;</span>可变参数</a></span></li></ul></li><li><span><a href=\"#模块\" data-toc-modified-id=\"模块-5\"><span class=\"toc-item-num\">5&nbsp;&nbsp;</span>模块</a></span><ul class=\"toc-item\"><li><span><a href=\"#模块的name\" data-toc-modified-id=\"模块的name-5.1\"><span class=\"toc-item-num\">5.1&nbsp;&nbsp;</span>模块的name</a></span></li><li><span><a href=\"#dir-函数\" data-toc-modified-id=\"dir-函数-5.2\"><span class=\"toc-item-num\">5.2&nbsp;&nbsp;</span>dir 函数</a></span></li><li><span><a href=\"#包\" data-toc-modified-id=\"包-5.3\"><span class=\"toc-item-num\">5.3&nbsp;&nbsp;</span>包</a></span></li></ul></li><li><span><a href=\"#数据结构\" data-toc-modified-id=\"数据结构-6\"><span class=\"toc-item-num\">6&nbsp;&nbsp;</span>数据结构</a></span><ul class=\"toc-item\"><li><span><a href=\"#列表\" data-toc-modified-id=\"列表-6.1\"><span class=\"toc-item-num\">6.1&nbsp;&nbsp;</span>列表</a></span></li><li><span><a href=\"#元组\" data-toc-modified-id=\"元组-6.2\"><span class=\"toc-item-num\">6.2&nbsp;&nbsp;</span>元组</a></span></li><li><span><a href=\"#字典\" data-toc-modified-id=\"字典-6.3\"><span class=\"toc-item-num\">6.3&nbsp;&nbsp;</span>字典</a></span></li><li><span><a href=\"#序列\" data-toc-modified-id=\"序列-6.4\"><span class=\"toc-item-num\">6.4&nbsp;&nbsp;</span>序列</a></span></li><li><span><a href=\"#集合\" data-toc-modified-id=\"集合-6.5\"><span class=\"toc-item-num\">6.5&nbsp;&nbsp;</span>集合</a></span></li><li><span><a href=\"#更多字符串内容\" data-toc-modified-id=\"更多字符串内容-6.6\"><span class=\"toc-item-num\">6.6&nbsp;&nbsp;</span>更多字符串内容</a></span></li></ul></li><li><span><a href=\"#面向对象的编程\" data-toc-modified-id=\"面向对象的编程-7\"><span class=\"toc-item-num\">7&nbsp;&nbsp;</span>面向对象的编程</a></span><ul class=\"toc-item\"><li><span><a href=\"#self\" data-toc-modified-id=\"self-7.1\"><span class=\"toc-item-num\">7.1&nbsp;&nbsp;</span>self</a></span></li><li><span><a href=\"#类\" data-toc-modified-id=\"类-7.2\"><span class=\"toc-item-num\">7.2&nbsp;&nbsp;</span>类</a></span></li><li><span><a href=\"#方法\" data-toc-modified-id=\"方法-7.3\"><span class=\"toc-item-num\">7.3&nbsp;&nbsp;</span>方法</a></span></li><li><span><a href=\"#_init_方法\" data-toc-modified-id=\"_init_方法-7.4\"><span class=\"toc-item-num\">7.4&nbsp;&nbsp;</span><code>_init_</code>方法</a></span></li><li><span><a href=\"#类变量与对象变量\" data-toc-modified-id=\"类变量与对象变量-7.5\"><span class=\"toc-item-num\">7.5&nbsp;&nbsp;</span>类变量与对象变量</a></span></li></ul></li></ul></div>"
   ]
  },
  {
   "cell_type": "markdown",
   "metadata": {},
   "source": [
    "# 基础"
   ]
  },
  {
   "cell_type": "markdown",
   "metadata": {},
   "source": [
    "## 格式化方法\n"
   ]
  },
  {
   "cell_type": "code",
   "execution_count": 1,
   "metadata": {},
   "outputs": [
    {
     "name": "stdout",
     "output_type": "stream",
     "text": [
      "Swaroop was 20 years old when he wrote this book.\n",
      "Why is Swaroop playing with that python?\n"
     ]
    }
   ],
   "source": [
    "age = 20\n",
    "name = 'Swaroop'\n",
    "\n",
    "print('{0} was {1} years old when he wrote this book.'.format(name,age))\n",
    "print(\"Why is {0} playing with that python?\".format(name))"
   ]
  },
  {
   "cell_type": "code",
   "execution_count": 2,
   "metadata": {},
   "outputs": [
    {
     "name": "stdout",
     "output_type": "stream",
     "text": [
      "Swaroop was 20 years old when he wrote this book.\n",
      "Why is Swaroop playing with that python?\n"
     ]
    }
   ],
   "source": [
    "# 也可以不用数字：\n",
    "\n",
    "age = 20\n",
    "name = 'Swaroop'\n",
    "\n",
    "print('{} was {} years old when he wrote this book.'.format(name,age))\n",
    "print(\"Why is {} playing with that python?\".format(name))"
   ]
  },
  {
   "cell_type": "code",
   "execution_count": 2,
   "metadata": {},
   "outputs": [
    {
     "name": "stdout",
     "output_type": "stream",
     "text": [
      "0.333\n",
      "___hello___\n",
      "Swaroop wrote A Byte of Python\n"
     ]
    }
   ],
   "source": [
    "# 也可以有更详细的参数格式：\n",
    "\n",
    "# 对于浮点数“0.333”，保留小数点后三位：\n",
    "print(\"{0:.3f}\".format(1.0/3))\n",
    "\n",
    "# 使用下划线填充文本，并保持文字处于中间位置\n",
    "# 使用（^）定义‘__hello__’字符串长度为11\n",
    "print('{0:_^11}'.format(\"hello\"))\n",
    "\n",
    "# 基于关键词输出“Swaroop wrote A Byte of Python”\n",
    "print('{name} wrote {book}'.format(name='Swaroop', book='A Byte of Python'))"
   ]
  },
  {
   "cell_type": "code",
   "execution_count": 1,
   "metadata": {},
   "outputs": [
    {
     "name": "stdout",
     "output_type": "stream",
     "text": [
      "a\n",
      "b\n",
      "ab\n",
      "a b c\n"
     ]
    }
   ],
   "source": [
    "# print总是会以一个不可见的换行符\"\\n\"结尾：\n",
    "print('a')\n",
    "print('b')\n",
    "# 也可以通过end指定使其以空白结尾：\n",
    "print('a', end='')\n",
    "print('b', end='')\n",
    "print()\n",
    "# 或者通过end指定以空格结尾：\n",
    "print('a',end=' ')\n",
    "print('b',end=' ')\n",
    "print('c')"
   ]
  },
  {
   "cell_type": "markdown",
   "metadata": {},
   "source": [
    "## 转义序列与原始字符串\n"
   ]
  },
  {
   "cell_type": "code",
   "execution_count": 17,
   "metadata": {},
   "outputs": [
    {
     "name": "stdout",
     "output_type": "stream",
     "text": [
      "This is the first  line. This is the second line.\n"
     ]
    }
   ],
   "source": [
    "# 放置在末尾的反斜杠表示字符串将在下一行继续，但不会添加新的一行————显式行链接\n",
    "print(\"This is the first  line. \\\n",
    "This is the second line.\")"
   ]
  },
  {
   "cell_type": "code",
   "execution_count": 16,
   "metadata": {},
   "outputs": [
    {
     "name": "stdout",
     "output_type": "stream",
     "text": [
      "This is the first line.\n",
      "This is the second line.\n"
     ]
    }
   ],
   "source": [
    "# ‘\\n’表示新一行的开始\n",
    "print(\"This is the first line.\\nThis is the second line.\")"
   ]
  },
  {
   "cell_type": "code",
   "execution_count": 20,
   "metadata": {},
   "outputs": [
    {
     "data": {
      "text/plain": [
       "'\\\\n'"
      ]
     },
     "execution_count": 20,
     "metadata": {},
     "output_type": "execute_result"
    }
   ],
   "source": [
    "# 在字符串钱加r或R来指定一个原始字符串，使所有的字符串都是直接按照字面的意思来使用，没有转义特殊或不能打印的字符\n",
    "r'\\n'"
   ]
  },
  {
   "cell_type": "code",
   "execution_count": 21,
   "metadata": {},
   "outputs": [
    {
     "name": "stdout",
     "output_type": "stream",
     "text": [
      "\\n\n"
     ]
    }
   ],
   "source": [
    "print(r'\\n')"
   ]
  },
  {
   "cell_type": "markdown",
   "metadata": {},
   "source": [
    "# 运算符与表达式"
   ]
  },
  {
   "cell_type": "markdown",
   "metadata": {},
   "source": [
    "## 运算符"
   ]
  },
  {
   "cell_type": "code",
   "execution_count": 22,
   "metadata": {},
   "outputs": [
    {
     "data": {
      "text/plain": [
       "'lalala'"
      ]
     },
     "execution_count": 22,
     "metadata": {},
     "output_type": "execute_result"
    }
   ],
   "source": [
    "# *（乘）：字符串重复指定次数后的结果\n",
    "a='la'\n",
    "a*3"
   ]
  },
  {
   "cell_type": "code",
   "execution_count": 23,
   "metadata": {
    "scrolled": true
   },
   "outputs": [
    {
     "data": {
      "text/plain": [
       "81"
      ]
     },
     "execution_count": 23,
     "metadata": {},
     "output_type": "execute_result"
    }
   ],
   "source": [
    "# **（乘方）\n",
    "3 ** 4 \n",
    "# 即3的4次方"
   ]
  },
  {
   "cell_type": "code",
   "execution_count": 25,
   "metadata": {},
   "outputs": [
    {
     "data": {
      "text/plain": [
       "4.333333333333333"
      ]
     },
     "execution_count": 25,
     "metadata": {},
     "output_type": "execute_result"
    }
   ],
   "source": [
    "# /（除）——可以是浮点数\n",
    "13/3"
   ]
  },
  {
   "cell_type": "code",
   "execution_count": 26,
   "metadata": {},
   "outputs": [
    {
     "data": {
      "text/plain": [
       "4"
      ]
     },
     "execution_count": 26,
     "metadata": {},
     "output_type": "execute_result"
    }
   ],
   "source": [
    "# //（整除）——向下取整至最接近的整数\n",
    "13//3"
   ]
  },
  {
   "cell_type": "code",
   "execution_count": 28,
   "metadata": {},
   "outputs": [
    {
     "name": "stdout",
     "output_type": "stream",
     "text": [
      "1\n",
      "1.5\n"
     ]
    }
   ],
   "source": [
    "# %（取模）——返回除法后的余数，可以是浮点数\n",
    "print(13%3)\n",
    "print(-25.5%2.25)"
   ]
  },
  {
   "cell_type": "markdown",
   "metadata": {},
   "source": [
    "## 数值运算与赋值的快捷方式"
   ]
  },
  {
   "cell_type": "markdown",
   "metadata": {},
   "source": [
    "> **```变量 = 变量 运算 表达式```  ** \n",
    "\n",
    "会变为  \n",
    "\n",
    "> **```变量 运算 = 表达式``` **\n",
    "\n",
    "例如：  \n",
    "\n",
    "> ```a = a*3```  \n",
    "\n",
    "也可以写作：\n",
    "\n",
    ">```a *=3```"
   ]
  },
  {
   "cell_type": "markdown",
   "metadata": {},
   "source": [
    "# 控制流"
   ]
  },
  {
   "cell_type": "markdown",
   "metadata": {
    "collapsed": true
   },
   "source": [
    "## if\n",
    "\n",
    "> if-elif-else 语句  \n",
    "\n",
    "> 当然elif和else都是可选的，最小规模可以只有if\n",
    "\n",
    "## while\n",
    "\n",
    "> while 语句能够让你在条件为真的前提下重复执行某块语句。 \n",
    "\n",
    "> while 语句是 循环（Looping） 语句的一种。 while 语句同样可以拥有 else 子句作为可选选项\n",
    "\n",
    "## for  \n",
    "> for...in 语句是另一种循环语句，其特点是会在一系列对象上进行迭代（Iterates），意即它会遍历序列中的每一个项目\n",
    "\n",
    "## break\n",
    "> break 语句用以中断（Break）循环语句，也就是中止循环语句的执行，即使循环条件没有变更为 False ，或队列中的项目尚未完全迭代依旧如此 \n",
    "\n",
    "> 有一点需要尤其注意，如果你的 中断 了一个 for 或 while 循环，任何相应循环中的else 块都将不会被执行\n",
    "\n",
    "## continue\n",
    "> continue 语句用以告诉 Python 跳过当前循环块中的剩余语句，并继续该循环的下一次迭代"
   ]
  },
  {
   "cell_type": "markdown",
   "metadata": {
    "collapsed": true
   },
   "source": [
    "# 函数"
   ]
  },
  {
   "cell_type": "markdown",
   "metadata": {
    "collapsed": true
   },
   "source": [
    "## 函数参数\n",
    "在定义函数时给定的名称称作“形参”(Parameters)，在调用函数时你所提供给函数的值称作“实参”(Arguments)"
   ]
  },
  {
   "cell_type": "markdown",
   "metadata": {},
   "source": [
    "## 局部变量  \n",
    "当你在一个函数的定义中声明变量时，它们不会以任何方式与身处函数之外但具有相同名称的变量产生关系，也就是说，这些变量名只存在于函数这一局部（Local）。这被称为变量的作用域（Scope）。所有变量的作用域是它们被定义的块，从定义它们的名字的定义点开始"
   ]
  },
  {
   "cell_type": "code",
   "execution_count": 1,
   "metadata": {},
   "outputs": [
    {
     "name": "stdout",
     "output_type": "stream",
     "text": [
      "x is  50\n",
      "Changed local x to  2\n",
      "x is still  50\n"
     ]
    }
   ],
   "source": [
    "x = 50\n",
    "\n",
    "def func(x):\n",
    "    print('x is ', x)\n",
    "    x = 2\n",
    "    print('Changed local x to ', x)\n",
    "    \n",
    "func(x)\n",
    "print('x is still ', x)"
   ]
  },
  {
   "cell_type": "markdown",
   "metadata": {
    "collapsed": true
   },
   "source": [
    "## Global语句  \n",
    "如果你想给一个在程序顶层的变量赋值（也就是说它不存在于任何作用域中，无论是函数还是类），那么你必须告诉 Python 这一变量并非局部的，而是全局（Global）的。我们需要通过 global 语句来完成这件事。因为在不使用 global 语句的情况下，不可能为一个定义于函数之外的变量赋值"
   ]
  },
  {
   "cell_type": "code",
   "execution_count": 3,
   "metadata": {},
   "outputs": [
    {
     "name": "stdout",
     "output_type": "stream",
     "text": [
      "x is  50\n",
      "Changed global x to 2\n",
      "Value of x is 2\n"
     ]
    }
   ],
   "source": [
    "x = 50\n",
    "\n",
    "def func():\n",
    "    global x\n",
    "    \n",
    "    print('x is ',x)\n",
    "    x = 2\n",
    "    print('Changed global x to', x)\n",
    "\n",
    "func()\n",
    "print('Value of x is', x)"
   ]
  },
  {
   "cell_type": "markdown",
   "metadata": {},
   "source": [
    "## 默认参数值  \n",
    "- 只有那些位于参数列表**末尾**的参数才能被赋予默认参数值，意即在函数的参数列表中拥有默认参数值的参数不能位于没有默认参数值的参数之前。\n",
    "这是因为值是按参数所处的位置依次分配的。  \n",
    "\n",
    "- 举例来说， def func(a, b=5) 是有效的，但 def func(a=5, b) 是无效的"
   ]
  },
  {
   "cell_type": "markdown",
   "metadata": {},
   "source": [
    "## 关键字参数\n",
    "\n",
    "- 如果你有一些具有许多参数的函数，而你又希望只对其中的一些进行指定，那么你可以通过命名它们来给这些参数赋值——这就是关键字参数（Keyword Arguments）——我们使用命名（关键字）而非位置（一直以来我们所使用的方式）来指定函数中的参数  \n",
    "\n",
    "- 这样做有两大优点——其一，我们不再需要考虑参数的顺序，函数的使用将更加容易。其二，我们可以只对那些我们希望赋予的参数以赋值，只要其它的参数都具有默认参数值"
   ]
  },
  {
   "cell_type": "markdown",
   "metadata": {},
   "source": [
    "## 可变参数  \n",
    "有时你可能想定义的函数里面能够有任意数量的变量，也就是参数数量是可变的，这可以通过使用星号来实现"
   ]
  },
  {
   "cell_type": "code",
   "execution_count": 5,
   "metadata": {},
   "outputs": [
    {
     "name": "stdout",
     "output_type": "stream",
     "text": [
      "a 10\n",
      "single_item 1\n",
      "single_item 2\n",
      "single_item 3\n",
      "Jack 1123\n",
      "John 2231\n",
      "Inge 1560\n",
      "None\n"
     ]
    }
   ],
   "source": [
    "def total(a=5, *numbers, **phonebook):\n",
    "    print('a', a)\n",
    "    \n",
    "    # 遍历元组中的所有项目\n",
    "    for single_item in numbers:\n",
    "        print('single_item', single_item)\n",
    "        \n",
    "    # 遍历字典中的所有项目\n",
    "    for first_part, second_part in phonebook.items():\n",
    "        print(first_part, second_part)\n",
    "        \n",
    "print(total(10,1,2,3, Jack=1123, John=2231, Inge=1560))"
   ]
  },
  {
   "cell_type": "markdown",
   "metadata": {},
   "source": [
    "- 当我们声明一个诸如 ```*param``` 的星号参数时，从此处开始直到结束的所有位置参数（Positional Arguments）都将被收集并汇集成一个称为“param”的元组（Tuple）。   \n",
    "\n",
    "- 类似地，当我们声明一个诸如 ```**param``` 的双星号参数时，从此处开始直至结束的所有关键字参数都将被收集并汇集成一个名为 param 的字典（Dictionary）。"
   ]
  },
  {
   "cell_type": "markdown",
   "metadata": {},
   "source": [
    "# 模块  \n",
    "如同函数是程序中的可重用部分那般，模块是一种可重用的程序。包是用以组织模块的另一种层次结构。Python 所附带的标准库就是这样一组有关包与模块的例子。"
   ]
  },
  {
   "cell_type": "markdown",
   "metadata": {},
   "source": [
    "## 模块的name\n",
    "每一个 Python 模块都定义了它的 ```__name__ ```属性。如果它与 ```__main__``` 属性相同则代表这一模块是由用户独立运行的，因此我们便可以采取适当的行动:\n",
    "\n",
    "```if __name__ == '__main__':```\n",
    "\n",
    "``` 'Do something here' ```"
   ]
  },
  {
   "cell_type": "markdown",
   "metadata": {},
   "source": [
    "## dir 函数  \n",
    "- 内置的 dir() 函数能够返回由对象所定义的名称列表。 如果这一对象是一个模块，则该列表会包括函数内所定义的函数、类与变量。    \n",
    "\n",
    "- 该函数接受参数。 如果参数是模块名称，函数将返回这一指定模块的名称列表。 如果没有提供参数，函数将返回当前模块的名称列表。"
   ]
  },
  {
   "cell_type": "markdown",
   "metadata": {},
   "source": [
    "## 包\n",
    "包是指一个包含模块与一个特殊的 ```__init__.py``` 文件的文件夹，后者向 Python 表明这一文件夹是特别的，因为其包含了 Python 模块。"
   ]
  },
  {
   "cell_type": "markdown",
   "metadata": {},
   "source": [
    "# 数据结构\n"
   ]
  },
  {
   "cell_type": "markdown",
   "metadata": {
    "collapsed": true
   },
   "source": [
    "## 列表\n",
    "- 列表 是一种用于保存一系列**有序**项目的集合\n",
    "\n",
    "\n",
    "- 项目的列表应该用**方括号**括起来\n",
    "\n",
    "\n",
    "- 一旦你创建了一张列表，你可以添加、移除或搜索列表中的项目。既然我们可以添加或删除项目，我们会说列表是一种**可变的**（Mutable）数据类型，意即，这种类型是可以被改变的。"
   ]
  },
  {
   "cell_type": "markdown",
   "metadata": {
    "collapsed": true
   },
   "source": [
    "***有关对象和类的介绍***\n",
    "\n",
    "- 列表是使用对象（Object）与类（Class）的实例（Instance）。当我们启用一个变量 i 并将整数 5 赋值给它时，你可以认为这是在创建一个 int 类（即类型）之下的对象（即实例） i  \n",
    "\n",
    "\n",
    "\n",
    "- 一个类也可以带有方法（Method），也就是说对这个类定义仅对于它启用某个函数。只有当你拥有一个属于该类的对象时，你才能使用这些功能。在这里要注意到我们通过**使用点号的方法来访问对象**。   \n",
    "\n",
    "\n",
    "- 一个类同样也可以具有字段（Field），它是只为该类定义且只为该类所用的变量。只有当你拥有一个属于该类的对象时，你才能够使用这些变量或者名称。字段同样可以**通过点号来访问**。\n",
    "\n",
    " "
   ]
  },
  {
   "cell_type": "code",
   "execution_count": 7,
   "metadata": {},
   "outputs": [
    {
     "name": "stdout",
     "output_type": "stream",
     "text": [
      "I have 4 items to purchase.\n",
      "These items are: apple mango carrot banana \n",
      "I also have to buy rice.\n",
      "My shopping list is now ['apple', 'mango', 'carrot', 'banana', 'rice']\n",
      "I will sort my list now.\n",
      "Sorted shopping list is  ['apple', 'banana', 'carrot', 'mango', 'rice']\n",
      "The first item I will buy is apple\n",
      "I bought the apple\n",
      "My shoppling list is now ['banana', 'carrot', 'mango', 'rice']\n"
     ]
    }
   ],
   "source": [
    "# ds_using_list.py\n",
    "\n",
    "shoplist = ['apple', 'mango', 'carrot', 'banana']\n",
    "print('I have', len(shoplist), 'items to purchase.')\n",
    "\n",
    "#在调用print函数时我们使用end参数，通过一个空格来结束输出工作，而不是通常的换行\n",
    "print('These items are:', end=' ')\n",
    "for item in shoplist:\n",
    "    print(item, end=' ')\n",
    "\n",
    "# 由于上一行的以空格而不是换行结束，这里需要用\"\\n\"来换行\n",
    "print('\\nI also have to buy rice.')\n",
    "shoplist.append('rice')\n",
    "print('My shopping list is now', shoplist)\n",
    "\n",
    "print('I will sort my list now.')\n",
    "shoplist.sort()\n",
    "# 列表的sort方法会修改列表本身，而不是返回一个修改后的新列表——与字符串不同，体现了列表是可变的，而字符串是不可变的\n",
    "print('Sorted shopping list is ', shoplist)\n",
    "\n",
    "print('The first item I will buy is', shoplist[0])\n",
    "olditem = shoplist[0]\n",
    "del shoplist[0]\n",
    "print('I bought the', olditem)\n",
    "print('My shoppling list is now', shoplist)"
   ]
  },
  {
   "cell_type": "markdown",
   "metadata": {},
   "source": [
    "## 元组\n",
    "- 元组（Tuple）用于将**多个对象**保存到一起。你可以将它们近似地看作列表，但是元组不能提供列表类能够提供给你的广泛的功能。元组的一大特征类似于字符串，它们是**不可变**的，也就是说，你不能编辑或更改元组。\n",
    "\n",
    "\n",
    "- 元组是通过特别指定项目来定义的，在指定项目时，你可以给它们加上**括号**，并在括号内部用**逗号进行分隔**。  \n",
    "\n",
    "\n",
    "- 元组通常用于保证某一语句或某一用户定义的函数可以安全地采用一组数值，意即元组内的数值不会改变。"
   ]
  },
  {
   "cell_type": "code",
   "execution_count": 8,
   "metadata": {},
   "outputs": [
    {
     "name": "stdout",
     "output_type": "stream",
     "text": [
      "Number of animals in the zoo is 3\n",
      "Number of cages in the new zoo is 3\n",
      "All animals in new zoo are ('monkey', 'camel', ('python', 'elephant', 'penguin'))\n",
      "Animals brought from old zoo are ('python', 'elephant', 'penguin')\n",
      "Last animal brought from old zoo is penguin\n",
      "Number of animals in the new zoo is 5\n"
     ]
    }
   ],
   "source": [
    "zoo = ('python', 'elephant', 'penguin')\n",
    "print('Number of animals in the zoo is', len(zoo))# 元组也是个序列，也可以用len函数来获取长度\n",
    "\n",
    "new_zoo = 'monkey', 'camel', zoo\n",
    "print('Number of cages in the new zoo is', len(new_zoo))\n",
    "print('All animals in new zoo are', new_zoo)\n",
    "print('Animals brought from old zoo are', new_zoo[2])\n",
    "print('Last animal brought from old zoo is', new_zoo[2][2])\n",
    "print('Number of animals in the new zoo is',\n",
    "len(new_zoo)-1+len(new_zoo[2]))"
   ]
  },
  {
   "cell_type": "markdown",
   "metadata": {},
   "source": [
    ">一个只拥有一个项目的元组并不像这样简单。你必须在第一个（也是唯一一个）项目的后面加上一个逗号来指定它，如此一来 Python 才可以识别出在这个表达式想表达的究竟是一个元组还是只是一个被括号所环绕的对象，也就是说，如果你想指定一个包含项目 2 的元组，你必须指定 **singleton = (2, ) **。"
   ]
  },
  {
   "cell_type": "markdown",
   "metadata": {},
   "source": [
    "## 字典\n",
    "- 我们将键值（Keys）（即姓名）与值（Values）（即地址等详细信息）联立到一起。在这里要注意到键值必须是唯一的。 \n",
    "\n",
    "\n",
    "- 另外要注意的是你只能使用**不可变的对象**（如字符串）作为字典的**键值（Keys）**，但是你可以使用**可变或不可变的对象**作为字典中的**值（Values）**。基本上这段话也可以翻译为你只能使用简单对象作为键值。  \n",
    "\n",
    "\n",
    "- 在字典中，你可以通过使用符号构成 **d = {key : value1 , key2 : value2} **这样的形式，来成对地指定键值与值。在这里要注意到成对的键值与值之间使用**冒号**分隔，而每一对键值与值则使用**逗号**进行区分，它们全都由一对**花括号**括起。 \n",
    "\n",
    "\n",
    "- 另外需要记住，字典中的成对的键值—值配对**不会以任何方式进行排序**。如果你希望为它们安排一个特别的次序，只能在**使用它们之前自行进行排序**。"
   ]
  },
  {
   "cell_type": "code",
   "execution_count": 12,
   "metadata": {},
   "outputs": [
    {
     "name": "stdout",
     "output_type": "stream",
     "text": [
      "Swaroop's address is swaroop@swaroopch.com\n",
      "\n",
      "There are 3 contacts in the address-book\n",
      "\n",
      "Contact Swaroop at swaroop@swaroopch.com\n",
      "Contact Larry at larry@wall.org\n",
      "Contact Matsumoto at matz@ruby-lang.org\n",
      "\n",
      "Guido's address is guido@python.org\n"
     ]
    }
   ],
   "source": [
    "ab = {\n",
    "'Swaroop': 'swaroop@swaroopch.com',\n",
    "'Larry': 'larry@wall.org',\n",
    "'Matsumoto': 'matz@ruby-lang.org',\n",
    "'Spammer': 'spammer@hotmail.com'\n",
    "}\n",
    "\n",
    "print(\"Swaroop's address is\", ab['Swaroop'])\n",
    "\n",
    "# 删除一对键值&值配对\n",
    "del ab['Spammer']  # 不需要知道对应的值 \n",
    "\n",
    "\n",
    "print('\\nThere are {} contacts in the address-book\\n'.format(len(ab)))\n",
    "\n",
    "# 我们通过使用字典的 item 方法来访问字典中的每一对键值—值配对信息，这一操作将返回一份包含元组的列表，\n",
    "# 每一元组中则包含了每一对相应的信息——键值以及其相应的值\n",
    "for name, address in ab.items():\n",
    "    print('Contact {} at {}'.format(name, address))\n",
    "    \n",
    "# 添加一对键值&值配对\n",
    "ab['Guido'] = 'guido@python.org'\n",
    "\n",
    "if 'Guido' in ab:\n",
    "    print(\"\\nGuido's address is\", ab['Guido'])"
   ]
  },
  {
   "cell_type": "markdown",
   "metadata": {},
   "source": [
    "## 序列\n",
    "- **列表**、**元组**和**字符串**可以看作序列（Sequence）的某种表现形式\n",
    "\n",
    "\n",
    "- 序列的主要功能是资格测试（Membership Test）（也就是 in 与 not in 表达式）和索引操作（Indexing Operations），它们能够允许我们直接获取序列中的特定项目。\n",
    "\n",
    "\n",
    "- 上面所提到的序列的三种形态——列表、元组与字符串，同样拥有一种**切片**（Slicing）运算符，它能够允许我们序列中的某段切片——也就是序列之中的一部分\n"
   ]
  },
  {
   "cell_type": "markdown",
   "metadata": {},
   "source": [
    "## 集合\n",
    "集合（Set）是简单对象的无序集合（Collection）。当集合中的项目存在与否比起次序或其出现次数更加重要时，我们就会使用集合"
   ]
  },
  {
   "cell_type": "markdown",
   "metadata": {},
   "source": [
    "## 更多字符串内容\n",
    "- startwith 方法用于查找字符串是否以给定的字符串内容开头。 \n",
    "\n",
    "\n",
    "- in 运算符用以检查给定的字符串是否是查询的字符串中的一部分。\n",
    "\n",
    "\n",
    "- find 方法用于定位字符串中给定的子字符串的位置。如果找不到相应的子字符串， find会返回 -1。 \n",
    "\n",
    "\n",
    "- str 类同样还拥有一个简洁的方法用以 联结（Join） 序列中的项目，其中字符串将会作为每一项目之间的分隔符，并以此生成并返回一串更大的字符串。"
   ]
  },
  {
   "cell_type": "code",
   "execution_count": 13,
   "metadata": {},
   "outputs": [
    {
     "name": "stdout",
     "output_type": "stream",
     "text": [
      "Yes, the string starts with \"Swa\"\n",
      "Yes, it contains the string \"a\"\n",
      "Yes, it contains the string \"war\"\n",
      "Brazil_*_Russia_*_India_*_China\n"
     ]
    }
   ],
   "source": [
    "name = 'Swaroop'\n",
    "\n",
    "if name.startswith('Swa'):\n",
    "    print('Yes, the string starts with \"Swa\"')\n",
    "    \n",
    "if 'a' in name:\n",
    "    print('Yes, it contains the string \"a\"')\n",
    "    \n",
    "if name.find('war') != -1:\n",
    "    print('Yes, it contains the string \"war\"')\n",
    "    \n",
    "delimiter = '_*_'\n",
    "mylist = ['Brazil', 'Russia', 'India', 'China']\n",
    "print(delimiter.join(mylist))"
   ]
  },
  {
   "cell_type": "markdown",
   "metadata": {},
   "source": [
    "# 面向对象的编程"
   ]
  },
  {
   "cell_type": "markdown",
   "metadata": {},
   "source": [
    "- 类与对象是面向对象编程的两个主要方面。一个**类（Class）**能够创建一种新的**类型（Type）**，其中**对象（Object）**就是类的**实例（Instance）**。可以这样来类比：你可以拥有类型 int 的变量，也就是说存储整数的变量是 int 类的实例（对象）\n",
    "\n",
    "\n",
    "- 对象可以使用属于它的普通变量来存储数据。这种从属于对象或类的变量叫作**字段（Field）**。对象还可以使用属于类的函数来实现某些功能，这种函数叫作类的**方法（Method）**。这两个术语很重要，它有助于我们区分函数与变量，哪些是独立的，哪些又是属于类或对象的。总之，字段与方法通称类的**属性（Attribute）**。\n",
    "\n",
    "\n",
    "- 字段有两种类型——它们属于某一类的各个实例或对象，或是从属于某一类本身。它们被分别称作**实例变量（Instance Variables）**与**类变量（Class Variables）**。通过 **class 关键字**可以创建一个类。这个类的字段与方法可以在缩进代码块中予以列出"
   ]
  },
  {
   "cell_type": "markdown",
   "metadata": {
    "collapsed": true
   },
   "source": [
    "## self\n",
    "类方法与普通函数只有一种特定的区别——前者必须有一个额外的名字，这个名字必须添加到参数列表的开头，但是你不用在你调用这个功能时为这个参数赋值，Python 会为它提供。这种特定的变量引用的是对象本身，按照惯例，它被赋予 self 这一名称。"
   ]
  },
  {
   "cell_type": "markdown",
   "metadata": {
    "collapsed": true
   },
   "source": [
    "## 类\n",
    "我们通过使用 **class 语句与这个类的名称**来创建一个新类。在它之后是一个缩进的语句块，代表这个**类的主体**。在本案例中，我们创建的是一个空代码块，使用 **pass 语句**予以标明。然后，我们通过采用**类的名称后跟一对括号的方法**，给这个类创建一个对象。为了验证我们的操作是否成功，我们通过直接将它们打印出来来确认变量的类型。结果告诉我们我们在 Person 类的``` __main__``` 模块中拥有了一个实例。"
   ]
  },
  {
   "cell_type": "code",
   "execution_count": 2,
   "metadata": {},
   "outputs": [
    {
     "name": "stdout",
     "output_type": "stream",
     "text": [
      "<__main__.Person object at 0x000001F0AFFC0128>\n"
     ]
    }
   ],
   "source": [
    "class Person:\n",
    "    pass # 一个空的代码块\n",
    "p = Person()\n",
    "print(p)"
   ]
  },
  {
   "cell_type": "markdown",
   "metadata": {},
   "source": [
    "## 方法\n",
    "我们已经在前面讨论过类与对象一如函数那般都可以带有方法（Method），唯一的不同在于我们还拥有一个额外的 self 变量"
   ]
  },
  {
   "cell_type": "code",
   "execution_count": 3,
   "metadata": {},
   "outputs": [
    {
     "name": "stdout",
     "output_type": "stream",
     "text": [
      "Hello, how are you?\n"
     ]
    }
   ],
   "source": [
    "class Person:\n",
    "    def say_hi(self):\n",
    "        print('Hello, how are you?')\n",
    "        \n",
    "p = Person()\n",
    "p.say_hi()\n",
    "# 前面两行同样可以写作\n",
    "# Person().say_hi()"
   ]
  },
  {
   "cell_type": "markdown",
   "metadata": {
    "collapsed": true
   },
   "source": [
    "## `_init_`方法"
   ]
  },
  {
   "cell_type": "markdown",
   "metadata": {
    "collapsed": true
   },
   "source": [
    "`__init__`方法会在类的对象被实例化（Instantiated）时立即运行。这一方法可以对任何你想进行操作的目标对象进行初始化（Initialization）操作。这里你要注意在 init 前后加上的双下划线。"
   ]
  },
  {
   "cell_type": "code",
   "execution_count": 2,
   "metadata": {},
   "outputs": [
    {
     "name": "stdout",
     "output_type": "stream",
     "text": [
      "Hello, my name is Swaroop\n"
     ]
    }
   ],
   "source": [
    "class Person:\n",
    "    def __init__(self, name): \n",
    "        self.name = name\n",
    "    \n",
    "    def say_hi(self):\n",
    "        print('Hello, my name is', self.name)\n",
    "    \n",
    "p = Person('Swaroop')# 在Person类下创建新的实例p：先写下类的名字，后跟括在括号内的参数\n",
    "p.say_hi()\n",
    "# 前面两行同时也能写作\n",
    "# Person('Swaroop').say_hi()"
   ]
  },
  {
   "cell_type": "markdown",
   "metadata": {},
   "source": [
    "## 类变量与对象变量"
   ]
  },
  {
   "cell_type": "markdown",
   "metadata": {},
   "source": [
    "- 字段（Filed）有两种类型——类变量与对象变量，它们根据究竟是类还是对象拥有这些变量来进行分类。\n",
    "\n",
    "\n",
    "- 类变量（Class Variable）是共享的（Shared）——它们可以被属于该类的所有实例访问。该类变量只拥有一个副本，当任何一个对象对类变量作出改变时，发生的变动将在其它所有实例中都会得到体现。\n",
    "\n",
    "\n",
    "- 对象变量（Object variable）由类的每一个独立的对象或实例所拥有。在这种情况下，每个对象都拥有属于它自己的字段的副本，也就是说，它们不会被共享，也不会以任何方式与其它不同实例中的相同名称的字段产生关联。"
   ]
  },
  {
   "cell_type": "code",
   "execution_count": 2,
   "metadata": {},
   "outputs": [
    {
     "name": "stdout",
     "output_type": "stream",
     "text": [
      "(Initializing R2-D2)\n",
      "Greetings, my master call me R2-D2.\n",
      "We have 1 robots.\n",
      "(Initializing C-3PO)\n",
      "Greetings, my master call me C-3PO.\n",
      "We have 2 robots.\n",
      "\n",
      "Robots can do some work here.\n",
      "\n",
      "Robots have finished their work. So let's destroy them.\n",
      "R2-D2 is being destroyed!\n",
      "There are still 1 robots working.\n",
      "C-3PO is being destroyed!\n",
      "C-3PO was the last one.\n",
      "We have 0 robots.\n"
     ]
    }
   ],
   "source": [
    "class Robot:\n",
    "    \"\"\"表示有一个带有名字的机器人。\"\"\"\n",
    "# 一个类变量，用来计数机器人的数量\n",
    "    population = 0\n",
    "    \n",
    "    def __init__(self, name):\n",
    "        \"\"\"初始化数据\"\"\"\n",
    "        self.name = name\n",
    "        print(\"(Initializing {})\".format(self.name))\n",
    "        \n",
    "        # 当有人被创建时，机器人\n",
    "        # 将会增加人口数量\n",
    "        Robot.population += 1\n",
    "        \n",
    "    def die(self):\n",
    "        \"\"\"我挂了。\"\"\"\n",
    "        print(\"{} is being destroyed!\".format(self.name))\n",
    "            \n",
    "        Robot.population -= 1\n",
    "            \n",
    "        if Robot.population == 0:\n",
    "            print(\"{} was the last one.\".format(self.name))\n",
    "        else:\n",
    "            print(\"There are still {:d} robots working.\".format(Robot.population))\n",
    "                \n",
    "    def say_hi(self):\n",
    "        \"\"\"来自机器人的诚挚问候\n",
    "        \n",
    "        没问题，你做得到。\"\"\"\n",
    "        print(\"Greetings, my master call me {}.\".format(self.name))\n",
    "    \n",
    "    @classmethod\n",
    "    def how_many(cls):\n",
    "        \"\"\"打印出当前的人口数量\"\"\"\n",
    "        print(\"We have {:d} robots.\".format(cls.population))\n",
    "        \n",
    "droid1 = Robot(\"R2-D2\")\n",
    "droid1.say_hi()\n",
    "Robot.how_many()\n",
    "\n",
    "droid2 = Robot(\"C-3PO\")\n",
    "droid2.say_hi()\n",
    "Robot.how_many()\n",
    "\n",
    "print(\"\\nRobots can do some work here.\\n\")\n",
    "\n",
    "print(\"Robots have finished their work. So let's destroy them.\")\n",
    "droid1.die()\n",
    "droid2.die()\n",
    "\n",
    "Robot.how_many()      \n",
    "        "
   ]
  },
  {
   "cell_type": "code",
   "execution_count": null,
   "metadata": {},
   "outputs": [],
   "source": []
  },
  {
   "cell_type": "code",
   "execution_count": null,
   "metadata": {},
   "outputs": [],
   "source": []
  },
  {
   "cell_type": "code",
   "execution_count": null,
   "metadata": {},
   "outputs": [],
   "source": []
  }
 ],
 "metadata": {
  "kernelspec": {
   "display_name": "Python [default]",
   "language": "python",
   "name": "python3"
  },
  "language_info": {
   "codemirror_mode": {
    "name": "ipython",
    "version": 3
   },
   "file_extension": ".py",
   "mimetype": "text/x-python",
   "name": "python",
   "nbconvert_exporter": "python",
   "pygments_lexer": "ipython3",
   "version": "3.6.5"
  },
  "toc": {
   "nav_menu": {},
   "number_sections": true,
   "sideBar": true,
   "skip_h1_title": false,
   "toc_cell": true,
   "toc_position": {
    "height": "622px",
    "left": "0px",
    "right": "1296.8px",
    "top": "111px",
    "width": "239px"
   },
   "toc_section_display": "block",
   "toc_window_display": false
  }
 },
 "nbformat": 4,
 "nbformat_minor": 2
}
